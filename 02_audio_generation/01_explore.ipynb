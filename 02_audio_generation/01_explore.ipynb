{
 "cells": [
  {
   "cell_type": "code",
   "execution_count": null,
   "id": "62794d46",
   "metadata": {},
   "outputs": [],
   "source": [
    "# !pip install gtts pydub audioop-lts\n",
    "from gtts import gTTS\n",
    "from pydub import AudioSegment\n",
    "import pandas as pd"
   ]
  },
  {
   "cell_type": "markdown",
   "id": "f16cc779",
   "metadata": {},
   "source": [
    "# 1. Example create and combine mp3"
   ]
  },
  {
   "cell_type": "code",
   "execution_count": null,
   "id": "6cf61093",
   "metadata": {},
   "outputs": [
    {
     "ename": "ModuleNotFoundError",
     "evalue": "No module named 'gtts'",
     "output_type": "error",
     "traceback": [
      "\u001b[31m---------------------------------------------------------------------------\u001b[39m",
      "\u001b[31mModuleNotFoundError\u001b[39m                       Traceback (most recent call last)",
      "\u001b[36mCell\u001b[39m\u001b[36m \u001b[39m\u001b[32mIn[1]\u001b[39m\u001b[32m, line 1\u001b[39m\n\u001b[32m----> \u001b[39m\u001b[32m1\u001b[39m \u001b[38;5;28;01mfrom\u001b[39;00m\u001b[38;5;250m \u001b[39m\u001b[34;01mgtts\u001b[39;00m\u001b[38;5;250m \u001b[39m\u001b[38;5;28;01mimport\u001b[39;00m gTTS\n\u001b[32m      3\u001b[39m \u001b[38;5;66;03m# Create Chinese TTS\u001b[39;00m\n\u001b[32m      4\u001b[39m tts_chinese = gTTS(\u001b[33m\"\u001b[39m\u001b[33m乐极生悲\u001b[39m\u001b[33m\"\u001b[39m, lang=\u001b[33m\"\u001b[39m\u001b[33mzh-cn\u001b[39m\u001b[33m\"\u001b[39m)\n",
      "\u001b[31mModuleNotFoundError\u001b[39m: No module named 'gtts'"
     ]
    }
   ],
   "source": [
    "# Create Chinese TTS\n",
    "tts_chinese = gTTS(\"乐极生悲\", lang=\"zh-cn\")\n",
    "tts_chinese.save(\"chinese.mp3\")\n",
    "\n",
    "# Create English TTS\n",
    "tts_english = gTTS(\"Extreme joy begets sorrow.\", lang=\"en\")\n",
    "tts_english.save(\"english.mp3\")"
   ]
  },
  {
   "cell_type": "code",
   "execution_count": null,
   "id": "ac4fb612",
   "metadata": {},
   "outputs": [],
   "source": [
    "\n",
    "\n",
    "# Load the audio files\n",
    "chinese_audio = AudioSegment.from_mp3(\"chinese.mp3\")\n",
    "english_audio = AudioSegment.from_mp3(\"english.mp3\")\n",
    "\n",
    "# Create a 500ms silent pause\n",
    "pause = AudioSegment.silent(duration=500)\n",
    "\n",
    "# Concatenate: chinese -> pause -> english\n",
    "combined = chinese_audio + pause + english_audio\n",
    "\n",
    "# Export the combined audio\n",
    "combined.export(\"combined.mp3\", format=\"mp3\")"
   ]
  }
 ],
 "metadata": {
  "kernelspec": {
   "display_name": "mandarin-data-nE21Vypf-py3.13",
   "language": "python",
   "name": "python3"
  },
  "language_info": {
   "codemirror_mode": {
    "name": "ipython",
    "version": 3
   },
   "file_extension": ".py",
   "mimetype": "text/x-python",
   "name": "python",
   "nbconvert_exporter": "python",
   "pygments_lexer": "ipython3",
   "version": "3.13.1"
  }
 },
 "nbformat": 4,
 "nbformat_minor": 5
}
